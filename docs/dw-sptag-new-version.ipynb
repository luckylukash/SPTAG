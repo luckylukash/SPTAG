{
 "cells": [
  {
   "cell_type": "code",
   "execution_count": 1,
   "metadata": {},
   "outputs": [
    {
     "data": {
      "text/plain": [
       "'/home/konan94/miniconda3/envs/sptag/bin/python'"
      ]
     },
     "execution_count": 1,
     "metadata": {},
     "output_type": "execute_result"
    }
   ],
   "source": [
    "import sys\n",
    "sys.executable"
   ]
  },
  {
   "cell_type": "code",
   "execution_count": 2,
   "metadata": {},
   "outputs": [],
   "source": [
    "import SPTAG\n",
    "\n",
    "import numpy as np\n",
    "import pandas as pd\n",
    "from PIL import Image\n",
    "import csv\n",
    "import os\n",
    "from os import listdir\n",
    "from os.path import isfile, join, splitext\n",
    "import shutil\n",
    "import random\n",
    "import matplotlib.pyplot as plt\n",
    "from matplotlib.pyplot import imshow\n",
    "import time\n",
    "\n",
    "%matplotlib inline"
   ]
  },
  {
   "cell_type": "code",
   "execution_count": 3,
   "metadata": {},
   "outputs": [],
   "source": [
    "n = 5\n",
    "k = 5\n",
    "r = 3"
   ]
  },
  {
   "cell_type": "code",
   "execution_count": 4,
   "metadata": {},
   "outputs": [],
   "source": [
    "#arr = np.load('/home/konan94/project/faiss/pg_np_512d_vector_data.npy').astype('float32')   # must be float32 : https://github.com/microsoft/SPTAG/issues/11\n",
    "#arr.shape\n",
    "\n",
    "# generate test np\n",
    "d = 2                           # dimension\n",
    "nb = 100                      # database size\n",
    "nq = 1                     # nb of queries\n",
    "np.random.seed(1234)             # make reproducible\n",
    "\n",
    "arr = np.random.random((nb, d)).astype('float32')\n",
    "#xb[:, 0] += np.arange(nb) / 1000.\n",
    "#xq = np.random.random((nq, d)).astype('float32')\n",
    "#xq[:, 0] += np.arange(nq) / 1000.\n",
    "\n"
   ]
  },
  {
   "cell_type": "code",
   "execution_count": 5,
   "metadata": {},
   "outputs": [
    {
     "data": {
      "text/plain": [
       "(100, 2)"
      ]
     },
     "execution_count": 5,
     "metadata": {},
     "output_type": "execute_result"
    }
   ],
   "source": [
    "arr.shape"
   ]
  },
  {
   "cell_type": "code",
   "execution_count": 7,
   "metadata": {},
   "outputs": [],
   "source": [
    "x1 = arr[0:100, :]"
   ]
  },
  {
   "cell_type": "code",
   "execution_count": 8,
   "metadata": {},
   "outputs": [],
   "source": [
    "q1 = arr[99:100, :]"
   ]
  },
  {
   "cell_type": "code",
   "execution_count": 10,
   "metadata": {},
   "outputs": [],
   "source": [
    "def testBuild(algo, distmethod, x, out):\n",
    "    i = SPTAG.AnnIndex(algo, 'Float', x.shape[1])\n",
    "    i.SetBuildParam(\"NumberOfThreads\", '4')\n",
    "    i.SetBuildParam(\"DistCalcMethod\", distmethod)\n",
    "    ret = i.Build(x.tobytes(), x.shape[0])\n",
    "    i.Save(out)\n",
    "    \n",
    "def testBuildWithMetaData(algo, distmethod, x, s, out):\n",
    "    i = SPTAG.AnnIndex(algo, 'Float', x.shape[1])\n",
    "    i.SetBuildParam(\"NumberOfThreads\", '4')\n",
    "    i.SetBuildParam(\"DistCalcMethod\", distmethod)\n",
    "    if i.BuildWithMetaData(x.tobytes(), s, x.shape[0]):\n",
    "        i.Save(out)\n",
    "\n",
    "def testSearch(index, q, k):\n",
    "    j = SPTAG.AnnIndex.Load(index)\n",
    "    for t in range(q.shape[0]):\n",
    "        result = j.Search(q[t].tobytes(), k)\n",
    "        print (result[0]) # ids\n",
    "        print (result[1]) # distances\n",
    "\n",
    "def testSearchWithMetaData(index, q, k):\n",
    "    j = SPTAG.AnnIndex.Load(index)\n",
    "    j.SetSearchParam(\"MaxCheck\", '1024')\n",
    "    for t in range(q.shape[0]):\n",
    "        result = j.SearchWithMetaData(q[t].tobytes(), k)\n",
    "        print (result[0]) # ids\n",
    "        print (result[1]) # distances\n",
    "        print (result[2]) # metadata\n",
    "\n",
    "def testAdd(index, x, out, algo, distmethod):\n",
    "    if index != None:\n",
    "        i = SPTAG.AnnIndex.Load(index)\n",
    "    else:\n",
    "        i = SPTAG.AnnIndex(algo, 'Float', x.shape[1])\n",
    "    i.SetBuildParam(\"NumberOfThreads\", '4')\n",
    "    i.SetBuildParam(\"DistCalcMethod\", distmethod)\n",
    "    if i.Add(x.tobytes(), x.shape[0]):\n",
    "        i.Save(out)\n",
    "\n",
    "def testAddWithMetaData(index, x, s, out, algo, distmethod):\n",
    "    if index != None:\n",
    "        i = SPTAG.AnnIndex.Load(index)\n",
    "    else:\n",
    "        i = SPTAG.AnnIndex(algo, 'Float', x.shape[1])\n",
    "    i = SPTAG.AnnIndex(algo, 'Float', x.shape[1])\n",
    "    i.SetBuildParam(\"NumberOfThreads\", '4')\n",
    "    i.SetBuildParam(\"DistCalcMethod\", distmethod)\n",
    "    if i.AddWithMetaData(x.tobytes(), s, x.shape[0]):\n",
    "        i.Save(out)\n",
    "\n",
    "def testDelete(index, x, out):\n",
    "    i = SPTAG.AnnIndex.Load(index)\n",
    "    ret = i.Delete(x.tobytes(), x.shape[0])\n",
    "    print (ret)\n",
    "    i.Save(out)\n",
    "\n",
    "def Test(algo, distmethod):\n",
    "    print (\"dw test.............................\")\n",
    "    %time testBuild(algo, distmethod, x1, 'testindices')\n",
    "    %time testSearch('testindices', q1, k)"
   ]
  },
  {
   "cell_type": "code",
   "execution_count": 11,
   "metadata": {},
   "outputs": [
    {
     "name": "stdout",
     "output_type": "stream",
     "text": [
      "dw test.............................\n",
      "CPU times: user 832 ms, sys: 10.3 ms, total: 842 ms\n",
      "Wall time: 439 ms\n",
      "[99, 28, 78, 9, 60]\n",
      "[0.0, 0.0023052990436553955, 0.0026325455401092768, 0.004830984864383936, 0.007799973711371422]\n",
      "CPU times: user 8.58 ms, sys: 3.86 ms, total: 12.4 ms\n",
      "Wall time: 12.6 ms\n"
     ]
    }
   ],
   "source": [
    "# run test\n",
    "if __name__ == '__main__':\n",
    "    Test('BKT', 'L2')\n",
    "    #Test('KDT', 'L2')"
   ]
  },
  {
   "cell_type": "code",
   "execution_count": null,
   "metadata": {},
   "outputs": [],
   "source": []
  }
 ],
 "metadata": {
  "kernelspec": {
   "display_name": "Python 3",
   "language": "python",
   "name": "python3"
  },
  "language_info": {
   "codemirror_mode": {
    "name": "ipython",
    "version": 3
   },
   "file_extension": ".py",
   "mimetype": "text/x-python",
   "name": "python",
   "nbconvert_exporter": "python",
   "pygments_lexer": "ipython3",
   "version": "3.6.9"
  }
 },
 "nbformat": 4,
 "nbformat_minor": 2
}
